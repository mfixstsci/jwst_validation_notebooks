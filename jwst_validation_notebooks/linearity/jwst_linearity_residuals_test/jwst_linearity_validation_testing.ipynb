{
 "cells": [
  {
   "cell_type": "markdown",
   "metadata": {},
   "source": [
    "<a id=\"title_ID\"></a>\n",
    "# JWST Pipeline Validation Testing Notebook: Linearity Ramp Corrected Residuals\n",
    "\n",
    "### Table of Contents\n",
    "<div style=\"text-align: left\"> \n",
    "\n",
    "<br> [Introduction](#intro_ID) <br> [Imports](#imports_ID) <br> [Getting the Data](#data_ID) <br> [Run Linearity Pipeline Step](#pipeline_ID) <br> [Calculate Residuals and Display](#residual_ID) <br> \n",
    "\n",
    "</div>"
   ]
  },
  {
   "cell_type": "markdown",
   "metadata": {},
   "source": [
    "<a id=\"intro_ID\"></a>\n",
    "# Introduction\n",
    "\n",
    "The linearity step applies the “classic” linearity correction adapted from the HST WFC3/IR linearity correction routine, correcting science data values for detector non-linearity. The correction is applied pixel-by-pixel, group-by-group, integration-by-integration within a science exposure. \n",
    "\n",
    "For more details, visit the documentation here: https://jwst-pipeline.readthedocs.io/en/latest/jwst/linearity/index.html\n",
    "\n",
    "\n",
    "### Defining Term\n",
    "\n",
    "JWST: James Webb Space Telescope\n",
    "\n",
    "OUT: Other Useful Terms\n",
    "\n",
    "[Top of Page](#title_ID)"
   ]
  },
  {
   "cell_type": "markdown",
   "metadata": {},
   "source": [
    "<a id=\"imports_ID\"></a>\n",
    "# Imports\n",
    "\n",
    "* astropy.io for opening fits files\n",
    "* ci_watson.artifactory_helpers.get_bigdata for data retrieval\n",
    "* jwst.datamodels for building model for JWST Pipeline\n",
    "* jwst.linearity.LinearityStep to perform the linearity pipeline correction\n",
    "* matplotlib.pyplot.plt to generate plot\n",
    "* numpy for array parsing and masking\n",
    "* os for operating system commands.\n",
    "\n",
    "* matplotlib inline for plot rendering in notebook\n",
    "\n",
    "[Top of Page](#title_ID)"
   ]
  },
  {
   "cell_type": "code",
   "execution_count": null,
   "metadata": {
    "collapsed": true,
    "nbpresent": {
     "id": "45177853-942e-4949-9e30-f544d70ef5f4"
    }
   },
   "outputs": [],
   "source": [
    "# %matplotlib inline\n",
    "# from astropy.io import fits\n",
    "# from ci_watson.artifactory_helpers import get_bigdata\n",
    "# from jwst.datamodels import MIRIRampModel\n",
    "# from jwst.linearity import LinearityStep\n",
    "# import matplotlib.pyplot as plt\n",
    "# import numpy as np\n",
    "# import os"
   ]
  },
  {
   "cell_type": "markdown",
   "metadata": {},
   "source": [
    "<a id=\"data_ID\"></a>\n",
    "# Getting the Data\n",
    "\n",
    "The data we are using for this test is an uncalibrated MIRI image from cryovac testing. List other interesting features about why this dataset was chosen for testing.\n",
    "\n",
    "Mention something about artifactory... Or how or where we store and access data.\n",
    "\n",
    "[Top of Page](#title_ID)"
   ]
  },
  {
   "cell_type": "code",
   "execution_count": null,
   "metadata": {
    "collapsed": true
   },
   "outputs": [],
   "source": [
    "# filename = get_bigdata('jwst_validation_notebooks',\n",
    "#                        'validation_data.zip!',\n",
    "#                        'validation_data',\n",
    "#                        'linearity',\n",
    "#                        'jwst_linearity_validation_test',\n",
    "#                        'jw80600003001_02101_00001_mirimage_uncal.fits')\n",
    "# fits_input = fits.open(filename)"
   ]
  },
  {
   "cell_type": "markdown",
   "metadata": {},
   "source": [
    "<a id=\"pipeline_ID\"></a>\n",
    "# Run Linearity Pipeline Step\n",
    "\n",
    "Define the output file and run the linearity correction step of the pipeline.\n",
    "\n",
    "[Top of Page](#title_ID)"
   ]
  },
  {
   "cell_type": "code",
   "execution_count": null,
   "metadata": {
    "collapsed": true
   },
   "outputs": [],
   "source": [
    "# outname = fits_input[0].header['filename'].replace('.fits',\n",
    "#                                                     '_linearitystep.fits')\n",
    "# LinearityStep.call(MIRIRampModel(fits_input), output_file=outname,\n",
    "#                    save_results=True)"
   ]
  },
  {
   "cell_type": "markdown",
   "metadata": {},
   "source": [
    "<a id=\"residual_ID\"></a>\n",
    "# Calculate Residuals and Display\n",
    "\n",
    "Calculate the second difference of the linearity corrected ramp for each \n",
    "pixel. If the ramp is perfectly linear they should be zero.\n",
    "\n",
    "[Top of Page](#title_ID)"
   ]
  },
  {
   "cell_type": "code",
   "execution_count": null,
   "metadata": {
    "collapsed": true,
    "nbpresent": {
     "id": "fb9e82bd-ecca-4033-ad38-8772e288b145"
    }
   },
   "outputs": [],
   "source": [
    "# fits_output = fits.open(outname)\n",
    "\n",
    "# nints, ngroups, nx, ny = fits_output['SCI'].data.shape\n",
    "# data_by_pixel = fits_output['SCI'].data.reshape(nints, ngroups, nx * ny)\n",
    "# groupdq_by_pixel = fits_output['GROUPDQ'].data.reshape(nints, ngroups,\n",
    "#                                                        nx * ny)\n",
    "# masked_output = np.ma.array(data_by_pixel, mask=groupdq_by_pixel.astype(bool))\n",
    "# masked_input = np.ma.array(fits_input['SCI'].data.reshape(nints, ngroups, nx * ny),\n",
    "#                            mask=groupdq_by_pixel.astype(bool))\n",
    "# second_diff = np.ma.diff(masked_output, n=2, axis=1)\n",
    "\n",
    "# # Set plot params\n",
    "# plt.rc('font', weight='bold')\n",
    "# plt.rc('xtick.major', size=5, pad=7)\n",
    "# plt.rc('xtick', labelsize=15)\n",
    "# plt.rc('ytick', labelsize=15)\n",
    "\n",
    "# plt.figure(figsize=(20,10))\n",
    "# plt.title(fits_input[0].header['FILENAME'], fontsize=20, fontweight='bold')\n",
    "\n",
    "# plt.plot(masked_input.data[0, 1:-1, :].flatten(),\n",
    "#          second_diff.data[0, :, :].flatten(), ',k', alpha=.01)\n",
    "\n",
    "# plt.axhline(y=0.0, color='r', ls='--')\n",
    "\n",
    "# plt.xlim(min(masked_input.data[0, 1:-1, :].flatten()), max(masked_input.data[0, 1:-1, :].flatten()))\n",
    "# plt.ylim(-250, 250)\n",
    "# plt.ylabel('Second Difference', fontsize=20, fontweight='bold')\n",
    "# plt.xlabel('Uncorrected Counts (DN)', fontsize=20, fontweight='bold')\n",
    "\n",
    "# plt.show()"
   ]
  },
  {
   "cell_type": "markdown",
   "metadata": {},
   "source": [
    "<a id=\"about_ID\"></a>\n",
    "## About this Notebook\n",
    "**Author:** Mees Fix, RIA MESA Branch\n",
    "<br>**Updated On:** 04/19/2019"
   ]
  },
  {
   "cell_type": "markdown",
   "metadata": {},
   "source": [
    "[Top of Page](#title_ID)\n",
    "<img style=\"float: right;\" src=\"./stsci_pri_combo_mark_horizonal_white_bkgd.png\" alt=\"stsci_pri_combo_mark_horizonal_white_bkgd\" width=\"200px\"/> "
   ]
  }
 ],
 "metadata": {
  "kernelspec": {
   "display_name": "Python 3",
   "language": "python",
   "name": "python3"
  },
  "language_info": {
   "codemirror_mode": {
    "name": "ipython",
    "version": 3
   },
   "file_extension": ".py",
   "mimetype": "text/x-python",
   "name": "python",
   "nbconvert_exporter": "python",
   "pygments_lexer": "ipython3",
   "version": "3.7.4"
  }
 },
 "nbformat": 4,
 "nbformat_minor": 1
}
