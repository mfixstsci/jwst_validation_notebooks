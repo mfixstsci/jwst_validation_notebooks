{
 "cells": [
  {
   "cell_type": "markdown",
   "metadata": {},
   "source": [
    "<a id=\"title_ID\"></a>\n",
    "# JWST Pipeline Validation Testing Notebook: Linearity Ramp Corrected Residuals\n",
    "\n",
    "### Table of Contents\n",
    "<div style=\"text-align: left\"> \n",
    "\n",
    "<br> [Introduction](#intro_ID) <br> [Imports](#imports_ID) <br> [Getting the Data](#data_ID) <br> [Run Linearity Pipeline Step](#pipeline_ID) <br> [Calculate Residuals and Display](#residual_ID) <br> \n",
    "\n",
    "</div>"
   ]
  },
  {
   "cell_type": "markdown",
   "metadata": {},
   "source": [
    "<a id=\"intro_ID\"></a>\n",
    "# Introduction\n",
    "\n",
    "The linearity step applies the “classic” linearity correction adapted from the HST WFC3/IR linearity correction routine, correcting science data values for detector non-linearity. The correction is applied pixel-by-pixel, group-by-group, integration-by-integration within a science exposure. \n",
    "\n",
    "For more details, visit the documentation here: https://jwst-pipeline.readthedocs.io/en/latest/jwst/linearity/index.html\n",
    "\n",
    "\n",
    "### Defining Term\n",
    "\n",
    "JWST: James Webb Space Telescope\n",
    "\n",
    "OUT: Other Useful Terms\n",
    "\n",
    "[Top of Page](#title_ID)"
   ]
  },
  {
   "cell_type": "markdown",
   "metadata": {},
   "source": [
    "<a id=\"imports_ID\"></a>\n",
    "# Imports\n",
    "\n",
    "* astropy.io for opening fits files\n",
    "* ci_watson.artifactory_helpers.get_bigdata for data retrieval\n",
    "* jwst.datamodels for building model for JWST Pipeline\n",
    "* jwst.linearity.LinearityStep to perform the linearity pipeline correction\n",
    "* matplotlib.pyplot.plt to generate plot\n",
    "* numpy for array parsing and masking\n",
    "* os for operating system commands.\n",
    "\n",
    "* matplotlib inline for plot rendering in notebook\n",
    "\n",
    "[Top of Page](#title_ID)"
   ]
  },
  {
   "cell_type": "code",
   "execution_count": 1,
   "metadata": {
    "collapsed": true,
    "nbpresent": {
     "id": "45177853-942e-4949-9e30-f544d70ef5f4"
    }
   },
   "outputs": [],
   "source": [
    "%matplotlib inline\n",
    "from astropy.io import fits\n",
    "from ci_watson.artifactory_helpers import get_bigdata\n",
    "from jwst.datamodels import MIRIRampModel\n",
    "from jwst.linearity import LinearityStep\n",
    "import matplotlib.pyplot as plt\n",
    "import numpy as np\n",
    "import os"
   ]
  },
  {
   "cell_type": "markdown",
   "metadata": {},
   "source": [
    "<a id=\"data_ID\"></a>\n",
    "# Getting the Data\n",
    "\n",
    "The data we are using for this test is an uncalibrated MIRI image from cryovac testing. List other interesting features about why this dataset was chosen for testing.\n",
    "\n",
    "Mention something about artifactory... Or how or where we store and access data.\n",
    "\n",
    "[Top of Page](#title_ID)"
   ]
  },
  {
   "cell_type": "code",
   "execution_count": 2,
   "metadata": {
    "collapsed": true
   },
   "outputs": [],
   "source": [
    "filename = get_bigdata('jwst_validation_notebooks',\n",
    "                       'validation_data.zip!',\n",
    "                       'validation_data',\n",
    "                       'linearity',\n",
    "                       'jwst_linearity_validation_test',\n",
    "                       'jw80600003001_02101_00001_mirimage_uncal.fits')\n",
    "fits_input = fits.open(filename)"
   ]
  },
  {
   "cell_type": "markdown",
   "metadata": {},
   "source": [
    "<a id=\"pipeline_ID\"></a>\n",
    "# Run Linearity Pipeline Step\n",
    "\n",
    "Define the output file and run the linearity correction step of the pipeline.\n",
    "\n",
    "[Top of Page](#title_ID)"
   ]
  },
  {
   "cell_type": "code",
   "execution_count": 3,
   "metadata": {
    "collapsed": true
   },
   "outputs": [
    {
     "name": "stderr",
     "output_type": "stream",
     "text": [
      "2020-03-27 11:03:05,720 - stpipe - WARNING - /srv/jenkins/workspace/Notebooks/jwst_validation_notebooks_spacetelescope/miniconda3/envs/jwst_validation_notebooks/lib/python3.6/site-packages/jwst/datamodels/ramp.py:51: DeprecationWarning: MIRIRampModel is deprecated and will be removed.  Use RampModel.\n",
      "  \"Use RampModel.\", category=DeprecationWarning)\n",
      "\n"
     ]
    },
    {
     "name": "stderr",
     "output_type": "stream",
     "text": [
      "2020-03-27 11:03:08,083 - CRDS - INFO -  Fetching  /tmp/crds_cache/mappings/jwst/jwst_system_calver_0020.rmap    2.1 K bytes  (1 / 41 files) (0 / 177.9 K bytes)\n"
     ]
    },
    {
     "name": "stderr",
     "output_type": "stream",
     "text": [
      "2020-03-27 11:03:08,254 - CRDS - INFO -  Fetching  /tmp/crds_cache/mappings/jwst/jwst_system_0019.imap          385 bytes  (2 / 41 files) (2.1 K / 177.9 K bytes)\n"
     ]
    },
    {
     "name": "stderr",
     "output_type": "stream",
     "text": [
      "2020-03-27 11:03:08,384 - CRDS - INFO -  Fetching  /tmp/crds_cache/mappings/jwst/jwst_nirspec_superbias_0037.rmap   15.3 K bytes  (3 / 41 files) (2.5 K / 177.9 K bytes)\n"
     ]
    },
    {
     "name": "stderr",
     "output_type": "stream",
     "text": [
      "2020-03-27 11:03:08,432 - CRDS - INFO -  Fetching  /tmp/crds_cache/mappings/jwst/jwst_nirspec_saturation_0017.rmap    2.0 K bytes  (4 / 41 files) (17.8 K / 177.9 K bytes)\n"
     ]
    },
    {
     "name": "stderr",
     "output_type": "stream",
     "text": [
      "2020-03-27 11:03:08,482 - CRDS - INFO -  Fetching  /tmp/crds_cache/mappings/jwst/jwst_nirspec_refpix_0014.rmap    1.5 K bytes  (5 / 41 files) (19.8 K / 177.9 K bytes)\n"
     ]
    },
    {
     "name": "stderr",
     "output_type": "stream",
     "text": [
      "2020-03-27 11:03:08,530 - CRDS - INFO -  Fetching  /tmp/crds_cache/mappings/jwst/jwst_nirspec_readnoise_0015.rmap    1.8 K bytes  (6 / 41 files) (21.3 K / 177.9 K bytes)\n"
     ]
    },
    {
     "name": "stderr",
     "output_type": "stream",
     "text": [
      "2020-03-27 11:03:08,579 - CRDS - INFO -  Fetching  /tmp/crds_cache/mappings/jwst/jwst_nirspec_photom_0012.rmap      907 bytes  (7 / 41 files) (23.1 K / 177.9 K bytes)\n"
     ]
    },
    {
     "name": "stderr",
     "output_type": "stream",
     "text": [
      "2020-03-27 11:03:08,626 - CRDS - INFO -  Fetching  /tmp/crds_cache/mappings/jwst/jwst_nirspec_linearity_0017.rmap    1.6 K bytes  (8 / 41 files) (24.0 K / 177.9 K bytes)\n"
     ]
    },
    {
     "name": "stderr",
     "output_type": "stream",
     "text": [
      "2020-03-27 11:03:08,674 - CRDS - INFO -  Fetching  /tmp/crds_cache/mappings/jwst/jwst_nirspec_gain_0019.rmap    1.8 K bytes  (9 / 41 files) (25.6 K / 177.9 K bytes)\n"
     ]
    },
    {
     "name": "stderr",
     "output_type": "stream",
     "text": [
      "2020-03-27 11:03:08,720 - CRDS - INFO -  Fetching  /tmp/crds_cache/mappings/jwst/jwst_nirspec_dark_0030.rmap   13.9 K bytes  (10 / 41 files) (27.4 K / 177.9 K bytes)\n"
     ]
    },
    {
     "name": "stderr",
     "output_type": "stream",
     "text": [
      "2020-03-27 11:03:08,766 - CRDS - INFO -  Fetching  /tmp/crds_cache/mappings/jwst/jwst_nirspec_area_0013.rmap    4.5 K bytes  (11 / 41 files) (41.3 K / 177.9 K bytes)\n"
     ]
    },
    {
     "name": "stderr",
     "output_type": "stream",
     "text": [
      "2020-03-27 11:03:08,812 - CRDS - INFO -  Fetching  /tmp/crds_cache/mappings/jwst/jwst_nirspec_0197.imap       2.3 K bytes  (12 / 41 files) (45.8 K / 177.9 K bytes)\n"
     ]
    },
    {
     "name": "stderr",
     "output_type": "stream",
     "text": [
      "2020-03-27 11:03:08,858 - CRDS - INFO -  Fetching  /tmp/crds_cache/mappings/jwst/jwst_niriss_photom_0026.rmap      996 bytes  (13 / 41 files) (48.1 K / 177.9 K bytes)\n"
     ]
    },
    {
     "name": "stderr",
     "output_type": "stream",
     "text": [
      "2020-03-27 11:03:08,906 - CRDS - INFO -  Fetching  /tmp/crds_cache/mappings/jwst/jwst_niriss_0123.imap        2.0 K bytes  (14 / 41 files) (49.1 K / 177.9 K bytes)\n"
     ]
    },
    {
     "name": "stderr",
     "output_type": "stream",
     "text": [
      "2020-03-27 11:03:08,952 - CRDS - INFO -  Fetching  /tmp/crds_cache/mappings/jwst/jwst_nircam_readnoise_0006.rmap    5.6 K bytes  (15 / 41 files) (51.1 K / 177.9 K bytes)\n"
     ]
    },
    {
     "name": "stderr",
     "output_type": "stream",
     "text": [
      "2020-03-27 11:03:08,999 - CRDS - INFO -  Fetching  /tmp/crds_cache/mappings/jwst/jwst_nircam_psfmask_0005.rmap   10.7 K bytes  (16 / 41 files) (56.7 K / 177.9 K bytes)\n"
     ]
    },
    {
     "name": "stderr",
     "output_type": "stream",
     "text": [
      "2020-03-27 11:03:09,045 - CRDS - INFO -  Fetching  /tmp/crds_cache/mappings/jwst/jwst_nircam_photom_0010.rmap    4.3 K bytes  (17 / 41 files) (67.5 K / 177.9 K bytes)\n"
     ]
    },
    {
     "name": "stderr",
     "output_type": "stream",
     "text": [
      "2020-03-27 11:03:09,092 - CRDS - INFO -  Fetching  /tmp/crds_cache/mappings/jwst/jwst_nircam_flat_0014.rmap   21.5 K bytes  (18 / 41 files) (71.8 K / 177.9 K bytes)\n"
     ]
    },
    {
     "name": "stderr",
     "output_type": "stream",
     "text": [
      "2020-03-27 11:03:09,141 - CRDS - INFO -  Fetching  /tmp/crds_cache/mappings/jwst/jwst_nircam_distortion_0022.rmap    9.1 K bytes  (19 / 41 files) (93.3 K / 177.9 K bytes)\n"
     ]
    },
    {
     "name": "stderr",
     "output_type": "stream",
     "text": [
      "2020-03-27 11:03:09,187 - CRDS - INFO -  Fetching  /tmp/crds_cache/mappings/jwst/jwst_nircam_dark_0018.rmap   14.1 K bytes  (20 / 41 files) (102.4 K / 177.9 K bytes)\n"
     ]
    },
    {
     "name": "stderr",
     "output_type": "stream",
     "text": [
      "2020-03-27 11:03:09,245 - CRDS - INFO -  Fetching  /tmp/crds_cache/mappings/jwst/jwst_nircam_0130.imap        2.0 K bytes  (21 / 41 files) (116.6 K / 177.9 K bytes)\n"
     ]
    },
    {
     "name": "stderr",
     "output_type": "stream",
     "text": [
      "2020-03-27 11:03:09,292 - CRDS - INFO -  Fetching  /tmp/crds_cache/mappings/jwst/jwst_miri_wavelengthrange_0019.rmap    1.1 K bytes  (22 / 41 files) (118.6 K / 177.9 K bytes)\n"
     ]
    },
    {
     "name": "stderr",
     "output_type": "stream",
     "text": [
      "2020-03-27 11:03:09,338 - CRDS - INFO -  Fetching  /tmp/crds_cache/mappings/jwst/jwst_miri_specwcs_0025.rmap    2.3 K bytes  (23 / 41 files) (119.6 K / 177.9 K bytes)\n"
     ]
    },
    {
     "name": "stderr",
     "output_type": "stream",
     "text": [
      "2020-03-27 11:03:09,384 - CRDS - INFO -  Fetching  /tmp/crds_cache/mappings/jwst/jwst_miri_reset_0010.rmap    2.1 K bytes  (24 / 41 files) (121.9 K / 177.9 K bytes)\n"
     ]
    },
    {
     "name": "stderr",
     "output_type": "stream",
     "text": [
      "2020-03-27 11:03:09,429 - CRDS - INFO -  Fetching  /tmp/crds_cache/mappings/jwst/jwst_miri_regions_0025.rmap    2.0 K bytes  (25 / 41 files) (124.0 K / 177.9 K bytes)\n"
     ]
    },
    {
     "name": "stderr",
     "output_type": "stream",
     "text": [
      "2020-03-27 11:03:09,480 - CRDS - INFO -  Fetching  /tmp/crds_cache/mappings/jwst/jwst_miri_readnoise_0014.rmap    4.3 K bytes  (26 / 41 files) (126.0 K / 177.9 K bytes)\n"
     ]
    },
    {
     "name": "stderr",
     "output_type": "stream",
     "text": [
      "2020-03-27 11:03:09,526 - CRDS - INFO -  Fetching  /tmp/crds_cache/mappings/jwst/jwst_miri_psfmask_0003.rmap    1.3 K bytes  (27 / 41 files) (130.3 K / 177.9 K bytes)\n"
     ]
    },
    {
     "name": "stderr",
     "output_type": "stream",
     "text": [
      "2020-03-27 11:03:09,574 - CRDS - INFO -  Fetching  /tmp/crds_cache/mappings/jwst/jwst_miri_photom_0028.rmap    5.5 K bytes  (28 / 41 files) (131.6 K / 177.9 K bytes)\n"
     ]
    },
    {
     "name": "stderr",
     "output_type": "stream",
     "text": [
      "2020-03-27 11:03:09,620 - CRDS - INFO -  Fetching  /tmp/crds_cache/mappings/jwst/jwst_miri_mask_0015.rmap       893 bytes  (29 / 41 files) (137.1 K / 177.9 K bytes)\n"
     ]
    },
    {
     "name": "stderr",
     "output_type": "stream",
     "text": [
      "2020-03-27 11:03:09,668 - CRDS - INFO -  Fetching  /tmp/crds_cache/mappings/jwst/jwst_miri_flat_0046.rmap    19.1 K bytes  (30 / 41 files) (138.0 K / 177.9 K bytes)\n"
     ]
    },
    {
     "name": "stderr",
     "output_type": "stream",
     "text": [
      "2020-03-27 11:03:09,714 - CRDS - INFO -  Fetching  /tmp/crds_cache/mappings/jwst/jwst_miri_filteroffset_0019.rmap    1.1 K bytes  (31 / 41 files) (157.0 K / 177.9 K bytes)\n"
     ]
    },
    {
     "name": "stderr",
     "output_type": "stream",
     "text": [
      "2020-03-27 11:03:09,770 - CRDS - INFO -  Fetching  /tmp/crds_cache/mappings/jwst/jwst_miri_extract1d_0011.rmap    1.1 K bytes  (32 / 41 files) (158.2 K / 177.9 K bytes)\n"
     ]
    },
    {
     "name": "stderr",
     "output_type": "stream",
     "text": [
      "2020-03-27 11:03:09,813 - CRDS - INFO -  Fetching  /tmp/crds_cache/mappings/jwst/jwst_miri_distortion_0031.rmap    1.9 K bytes  (33 / 41 files) (159.2 K / 177.9 K bytes)\n"
     ]
    },
    {
     "name": "stderr",
     "output_type": "stream",
     "text": [
      "2020-03-27 11:03:09,857 - CRDS - INFO -  Fetching  /tmp/crds_cache/mappings/jwst/jwst_miri_dark_0020.rmap     3.5 K bytes  (34 / 41 files) (161.1 K / 177.9 K bytes)\n"
     ]
    },
    {
     "name": "stderr",
     "output_type": "stream",
     "text": [
      "2020-03-27 11:03:09,899 - CRDS - INFO -  Fetching  /tmp/crds_cache/mappings/jwst/jwst_miri_cubepar_0006.rmap      686 bytes  (35 / 41 files) (164.6 K / 177.9 K bytes)\n"
     ]
    },
    {
     "name": "stderr",
     "output_type": "stream",
     "text": [
      "2020-03-27 11:03:09,945 - CRDS - INFO -  Fetching  /tmp/crds_cache/mappings/jwst/jwst_miri_0196.imap          2.1 K bytes  (36 / 41 files) (165.3 K / 177.9 K bytes)\n"
     ]
    },
    {
     "name": "stderr",
     "output_type": "stream",
     "text": [
      "2020-03-27 11:03:09,990 - CRDS - INFO -  Fetching  /tmp/crds_cache/mappings/jwst/jwst_fgs_superbias_0015.rmap    3.8 K bytes  (37 / 41 files) (167.4 K / 177.9 K bytes)\n"
     ]
    },
    {
     "name": "stderr",
     "output_type": "stream",
     "text": [
      "2020-03-27 11:03:10,039 - CRDS - INFO -  Fetching  /tmp/crds_cache/mappings/jwst/jwst_fgs_photom_0011.rmap    1.0 K bytes  (38 / 41 files) (171.2 K / 177.9 K bytes)\n"
     ]
    },
    {
     "name": "stderr",
     "output_type": "stream",
     "text": [
      "2020-03-27 11:03:10,085 - CRDS - INFO -  Fetching  /tmp/crds_cache/mappings/jwst/jwst_fgs_dark_0011.rmap      3.3 K bytes  (39 / 41 files) (172.2 K / 177.9 K bytes)\n"
     ]
    },
    {
     "name": "stderr",
     "output_type": "stream",
     "text": [
      "2020-03-27 11:03:10,133 - CRDS - INFO -  Fetching  /tmp/crds_cache/mappings/jwst/jwst_fgs_0078.imap           1.8 K bytes  (40 / 41 files) (175.5 K / 177.9 K bytes)\n"
     ]
    },
    {
     "name": "stderr",
     "output_type": "stream",
     "text": [
      "2020-03-27 11:03:10,182 - CRDS - INFO -  Fetching  /tmp/crds_cache/mappings/jwst/jwst_0586.pmap                 573 bytes  (41 / 41 files) (177.3 K / 177.9 K bytes)\n"
     ]
    },
    {
     "name": "stderr",
     "output_type": "stream",
     "text": [
      "2020-03-27 11:03:10,521 - CRDS - ERROR -  Error determining best reference for 'pars-linearitystep'  =   Unknown reference type 'pars-linearitystep'\n"
     ]
    },
    {
     "name": "stderr",
     "output_type": "stream",
     "text": [
      "2020-03-27 11:03:10,527 - stpipe.LinearityStep - INFO - LinearityStep instance created.\n"
     ]
    },
    {
     "name": "stderr",
     "output_type": "stream",
     "text": [
      "2020-03-27 11:03:10,691 - stpipe.LinearityStep - INFO - Step LinearityStep running with args (<RampModel(30, 100, 128, 136) from jw80600003001_02101_00001_mirimage_uncal.fits>,).\n"
     ]
    },
    {
     "name": "stderr",
     "output_type": "stream",
     "text": [
      "2020-03-27 11:03:10,694 - stpipe.LinearityStep - INFO - Step LinearityStep parameters are: {'pre_hooks': [], 'post_hooks': [], 'output_file': '/srv/jenkins/workspace/Notebooks/jwst_validation_notebooks_spacetelescope/jwst_validation_notebooks/linearity/jwst_linearity_residuals_test/jw80600003001_02101_00001_mirimage_uncal_linearitystep.fits', 'output_dir': None, 'output_ext': '.fits', 'output_use_model': False, 'output_use_index': True, 'save_results': True, 'skip': False, 'suffix': None, 'search_output_file': True, 'input_dir': ''}\n"
     ]
    },
    {
     "name": "stderr",
     "output_type": "stream",
     "text": [
      "2020-03-27 11:03:10,814 - CRDS - INFO -  Fetching  /tmp/crds_cache/references/jwst/miri/jwst_miri_linearity_0024.fits   46.5 M bytes  (1 / 1 files) (0 / 46.5 M bytes)\n"
     ]
    },
    {
     "name": "stderr",
     "output_type": "stream",
     "text": [
      "2020-03-27 11:03:11,726 - stpipe.LinearityStep - INFO - Using Linearity reference file /tmp/crds_cache/references/jwst/miri/jwst_miri_linearity_0024.fits\n"
     ]
    },
    {
     "name": "stderr",
     "output_type": "stream",
     "text": [
      "2020-03-27 11:03:13,458 - stpipe.LinearityStep - INFO - Extracting linearity subarray to match science data\n"
     ]
    },
    {
     "name": "stderr",
     "output_type": "stream",
     "text": [
      "2020-03-27 11:03:14,850 - stpipe.LinearityStep - INFO - Saved model in jw80600003001_02101_00001_mirimage_uncal_linearitystep.fits\n"
     ]
    },
    {
     "name": "stderr",
     "output_type": "stream",
     "text": [
      "2020-03-27 11:03:14,852 - stpipe.LinearityStep - INFO - Step LinearityStep done\n"
     ]
    },
    {
     "data": {
      "text/plain": [
       "<RampModel(30, 100, 128, 136) from jw80600003001_02101_00001_mirimage_uncal_linearitystep.fits>"
      ]
     },
     "execution_count": 3,
     "metadata": {},
     "output_type": "execute_result"
    }
   ],
   "source": [
    "outname = fits_input[0].header['filename'].replace('.fits',\n",
    "                                                    '_linearitystep.fits')\n",
    "LinearityStep.call(MIRIRampModel(fits_input), output_file=outname,\n",
    "                   save_results=True)"
   ]
  },
  {
   "cell_type": "markdown",
   "metadata": {},
   "source": [
    "<a id=\"residual_ID\"></a>\n",
    "# Calculate Residuals and Display\n",
    "\n",
    "Calculate the second difference of the linearity corrected ramp for each \n",
    "pixel. If the ramp is perfectly linear they should be zero.\n",
    "\n",
    "[Top of Page](#title_ID)"
   ]
  },
  {
   "cell_type": "code",
   "execution_count": 4,
   "metadata": {
    "collapsed": true,
    "nbpresent": {
     "id": "fb9e82bd-ecca-4033-ad38-8772e288b145"
    }
   },
   "outputs": [
    {
     "data": {
      "image/png": "[encoded data removed]",
      "text/plain": [
       "<Figure size 1440x720 with 1 Axes>"
      ]
     },
     "metadata": {
      "needs_background": "light"
     },
     "output_type": "display_data"
    }
   ],
   "source": [
    "fits_output = fits.open(outname)\n",
    "\n",
    "nints, ngroups, nx, ny = fits_output['SCI'].data.shape\n",
    "data_by_pixel = fits_output['SCI'].data.reshape(nints, ngroups, nx * ny)\n",
    "groupdq_by_pixel = fits_output['GROUPDQ'].data.reshape(nints, ngroups,\n",
    "                                                       nx * ny)\n",
    "masked_output = np.ma.array(data_by_pixel, mask=groupdq_by_pixel.astype(bool))\n",
    "masked_input = np.ma.array(fits_input['SCI'].data.reshape(nints, ngroups, nx * ny),\n",
    "                           mask=groupdq_by_pixel.astype(bool))\n",
    "second_diff = np.ma.diff(masked_output, n=2, axis=1)\n",
    "\n",
    "# Set plot params\n",
    "plt.rc('font', weight='bold')\n",
    "plt.rc('xtick.major', size=5, pad=7)\n",
    "plt.rc('xtick', labelsize=15)\n",
    "plt.rc('ytick', labelsize=15)\n",
    "\n",
    "plt.figure(figsize=(20,10))\n",
    "plt.title(fits_input[0].header['FILENAME'], fontsize=20, fontweight='bold')\n",
    "\n",
    "plt.plot(masked_input.data[0, 1:-1, :].flatten(),\n",
    "         second_diff.data[0, :, :].flatten(), ',k', alpha=.01)\n",
    "\n",
    "plt.axhline(y=0.0, color='r', ls='--')\n",
    "\n",
    "plt.xlim(min(masked_input.data[0, 1:-1, :].flatten()), max(masked_input.data[0, 1:-1, :].flatten()))\n",
    "plt.ylim(-250, 250)\n",
    "plt.ylabel('Second Difference', fontsize=20, fontweight='bold')\n",
    "plt.xlabel('Uncorrected Counts (DN)', fontsize=20, fontweight='bold')\n",
    "\n",
    "plt.show()"
   ]
  },
  {
   "cell_type": "markdown",
   "metadata": {},
   "source": [
    "<a id=\"about_ID\"></a>\n",
    "## About this Notebook\n",
    "**Author:** Mees Fix, RIA MESA Branch\n",
    "<br>**Updated On:** 04/19/2019"
   ]
  },
  {
   "cell_type": "markdown",
   "metadata": {},
   "source": [
    "[Top of Page](#title_ID)\n",
    "<img style=\"float: right;\" src=\"./stsci_pri_combo_mark_horizonal_white_bkgd.png\" alt=\"stsci_pri_combo_mark_horizonal_white_bkgd\" width=\"200px\"/> "
   ]
  }
 ],
 "metadata": {
  "kernelspec": {
   "display_name": "Python 3",
   "language": "python",
   "name": "python3"
  },
  "language_info": {
   "codemirror_mode": {
    "name": "ipython",
    "version": 3
   },
   "file_extension": ".py",
   "mimetype": "text/x-python",
   "name": "python",
   "nbconvert_exporter": "python",
   "pygments_lexer": "ipython3",
   "version": "3.6.10"
  }
 },
 "nbformat": 4,
 "nbformat_minor": 1
}
