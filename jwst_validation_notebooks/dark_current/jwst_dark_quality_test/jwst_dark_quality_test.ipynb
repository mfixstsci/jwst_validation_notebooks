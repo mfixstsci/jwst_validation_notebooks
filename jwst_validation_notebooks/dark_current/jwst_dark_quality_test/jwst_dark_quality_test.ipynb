{
 "cells": [
  {
   "cell_type": "markdown",
   "metadata": {},
   "source": [
    "<a id=\"title_ID\"></a>\n",
    "# JWST Pipeline Validation Testing Notebook: Dark Quality Test\n",
    "\n",
    "### Table of Contents\n",
    "<div style=\"text-align: left\"> \n",
    "\n",
    "<br> [Introduction](#intro_ID) <br> [Imports](#imports_ID) <br> [Getting the Data](#data_ID) <br> [Run Dark Correction Pipeline Step](#pipeline_ID) <br> [Check the slope of the median ramp for the detector](#slope_ID) <br> \n",
    "\n",
    "</div>"
   ]
  },
  {
   "cell_type": "markdown",
   "metadata": {},
   "source": [
    "<a id=\"intro_ID\"></a>\n",
    "# Introduction\n",
    "\n",
    "The dark current step removes dark current from a JWST exposure by subtracting dark current data stored in a dark reference file.\n",
    "\n",
    "For more details, visit the documentation here: https://jwst-pipeline.readthedocs.io/en/latest/jwst/dark_current/description.html\n",
    "\n",
    "\n",
    "### Defining Term\n",
    "\n",
    "JWST: James Webb Space Telescope\n",
    "\n",
    "OUT: Other Useful Terms\n",
    "\n",
    "[Top of Page](#title_ID)"
   ]
  },
  {
   "cell_type": "markdown",
   "metadata": {},
   "source": [
    "<a id=\"imports_ID\"></a>\n",
    "# Imports\n",
    "\n",
    "* jwst.datamodels for building model for JWST Pipeline\n",
    "* jwst.dark_current.dark_sub.do_correction to perform the dark correction\n",
    "* matplotlib.pyplot.plt to generate plot\n",
    "* numpy for array parsing and masking\n",
    "* os for operating system commands.\n",
    "\n",
    "* matplotlib inline for plot rendering in notebook\n",
    "\n",
    "[Top of Page](#title_ID)"
   ]
  },
  {
   "cell_type": "code",
   "execution_count": null,
   "metadata": {
    "nbpresent": {
     "id": "45177853-942e-4949-9e30-f544d70ef5f4"
    }
   },
   "outputs": [],
   "source": [
    "# %matplotlib inline\n",
    "\n",
    "from jwst.datamodels import DarkMIRIModel, MIRIRampModel\n",
    "from jwst.dark_current.dark_sub import do_correction\n",
    "# import matplotlib.pyplot as plt\n",
    "import numpy as np\n",
    "import os"
   ]
  },
  {
   "cell_type": "markdown",
   "metadata": {},
   "source": [
    "<a id=\"data_ID\"></a>\n",
    "# Getting the Data\n",
    "\n",
    "We are constructing a fake MIRI/Dark model dataset using the datamodels library in JWST.\n",
    "\n",
    "Mention something about artifactory... Or how or where we store and access data.\n",
    "\n",
    "[Top of Page](#title_ID)"
   ]
  },
  {
   "cell_type": "code",
   "execution_count": null,
   "metadata": {},
   "outputs": [],
   "source": [
    "# size of integration\n",
    "nints = 1\n",
    "ngroups = 7\n",
    "xsize = 1032\n",
    "ysize = 1024\n",
    "\n",
    "# Define data's shape\n",
    "csize = (nints, ngroups, ysize, xsize)\n",
    "data = np.random.rand(nints, ngroups, ysize, xsize)*1e6\n",
    "\n",
    "# create a JWST MIRI rampmodel\n",
    "dm_ramp = MIRIRampModel(data=data)\n",
    "\n",
    "dm_ramp.meta.instrument.name = 'MIRI'\n",
    "dm_ramp.meta.observation.date = '2018-01-01'\n",
    "dm_ramp.meta.observation.time = '00:00:00'\n",
    "dm_ramp.meta.subarray.xstart = 1\n",
    "dm_ramp.meta.subarray.xsize = xsize\n",
    "dm_ramp.meta.subarray.ystart = 1\n",
    "dm_ramp.meta.subarray.ysize = ysize\n",
    "dm_ramp.meta.description = 'Fake data.'\n",
    "\n",
    "\n",
    "# Define shape of dark model\n",
    "csize = (nints*5, ngroups, ysize, xsize)\n",
    "data = np.random.rand(nints, ngroups, ysize, xsize) * 1e-3\n",
    "\n",
    "# Create dark datamodel\n",
    "dark = DarkMIRIModel(data=data)\n",
    "\n",
    "dark.meta.instrument.name = 'MIRI'\n",
    "dark.meta.date = '2018-01-01'\n",
    "dark.meta.time = '00:00:00'\n",
    "dark.meta.subarray.xstart = 1\n",
    "dark.meta.subarray.xsize = xsize\n",
    "dark.meta.subarray.ystart = 1\n",
    "dark.meta.subarray.ysize = ysize\n",
    "dark.meta.exposure.nframes = 1\n",
    "dark.meta.exposure.groupgap = 0\n",
    "dark.meta.description = 'Fake data.'\n",
    "dark.meta.reftype = 'DarkModel'\n",
    "dark.meta.pedigree = 'Dummy'\n",
    "dark.meta.useafter = '2015-10-01T00:00:00'\n",
    "\n",
    "# create raw input data for step\n",
    "dm_ramp.meta.exposure.nframes = 1\n",
    "dm_ramp.meta.exposure.groupgap = 0\n",
    "\n",
    "# populate data array of science cube\n",
    "for i in range(0, ngroups):\n",
    "    dm_ramp.data[0, i] = i\n",
    "\n",
    "# populate data array of reference file\n",
    "for i in range(0, ngroups):\n",
    "    dark.data[0, i] = i * 0.1"
   ]
  },
  {
   "cell_type": "markdown",
   "metadata": {},
   "source": [
    "<a id=\"pipeline_ID\"></a>\n",
    "# Run Dark Correction Pipeline Step\n",
    "\n",
    "Define the output file and run the linearity correction step of the pipeline.\n",
    "\n",
    "[Top of Page](#title_ID)"
   ]
  },
  {
   "cell_type": "code",
   "execution_count": null,
   "metadata": {},
   "outputs": [],
   "source": [
    "# run pipeline\n",
    "outfile = do_correction(dm_ramp, dark)"
   ]
  },
  {
   "cell_type": "markdown",
   "metadata": {},
   "source": [
    "<a id=\"slope_ID\"></a>\n",
    "# Check the slope of the median ramp for the detector\n",
    "\n",
    "The count rate of the dark subtracted ramp should be small (< 0.1?)\n",
    "\n",
    "[Top of Page](#title_ID)"
   ]
  },
  {
   "cell_type": "code",
   "execution_count": null,
   "metadata": {
    "nbpresent": {
     "id": "fb9e82bd-ecca-4033-ad38-8772e288b145"
    }
   },
   "outputs": [],
   "source": [
    "med_in = np.median(dm_ramp.data[0, :, :, :], axis=(1, 2))\n",
    "med_out = np.median(outfile.data[0, :, :, :,], axis=(1,2))\n",
    "\n",
    "groups = np.arange(med_in.shape[0])\n",
    "\n",
    "slope_in = np.polyfit(groups, med_in, 1)\n",
    "slope_out = np.polyfit(groups, med_out, 1)\n",
    "\n",
    "print(\n",
    "\"Slope of median ramp before dark subtraction: {} counts/group\".format(\n",
    "    slope_in[0]))\n",
    "print(\n",
    "\"Slope of median ramp after dark subtraction: {} counts/group\".format(\n",
    "    slope_out[0]))\n",
    "\n",
    "# Set plot params\n",
    "# plt.rc('font', weight='bold')\n",
    "# plt.rc('xtick.major', size=5, pad=7)\n",
    "# plt.rc('xtick', labelsize=15)\n",
    "# plt.rc('ytick', labelsize=15)\n",
    "\n",
    "# plt.figure(figsize=(20,10))\n",
    "# plt.grid(True, ls='--')\n",
    "# plt.title('Random Data', fontsize=20, fontweight='bold')\n",
    "# plt.plot(med_in, c='k', label= 'Ramp PreDarkCorr')\n",
    "# plt.plot(med_out,c='r', label='Ramp PostDarkCorr')\n",
    "# plt.xlabel('Group Number', fontsize=20, fontweight='bold')\n",
    "# plt.ylabel('Counts', fontsize=20, fontweight='bold')\n",
    "# plt.legend(fontsize='xx-large')"
   ]
  },
  {
   "cell_type": "markdown",
   "metadata": {},
   "source": [
    "<a id=\"about_ID\"></a>\n",
    "## About this Notebook\n",
    "**Author:** Mees Fix, RIA MESA Branch\n",
    "<br>**Updated On:** 03/01/2019"
   ]
  },
  {
   "cell_type": "markdown",
   "metadata": {},
   "source": [
    "[Top of Page](#title_ID)\n",
    "<img style=\"float: right;\" src=\"./stsci_pri_combo_mark_horizonal_white_bkgd.png\" alt=\"stsci_pri_combo_mark_horizonal_white_bkgd\" width=\"200px\"/> "
   ]
  }
 ],
 "metadata": {
  "kernelspec": {
   "display_name": "Python [default]",
   "language": "python",
   "name": "python3"
  },
  "language_info": {
   "codemirror_mode": {
    "name": "ipython",
    "version": 3
   },
   "file_extension": ".py",
   "mimetype": "text/x-python",
   "name": "python",
   "nbconvert_exporter": "python",
   "pygments_lexer": "ipython3",
   "version": "3.5.6"
  }
 },
 "nbformat": 4,
 "nbformat_minor": 1
}
